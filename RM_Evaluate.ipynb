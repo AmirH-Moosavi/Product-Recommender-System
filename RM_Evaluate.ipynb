{
 "cells": [
  {
   "cell_type": "code",
   "execution_count": 1,
   "id": "ede7c0f4-9cb8-4efa-b8c3-5b3c09283fe3",
   "metadata": {},
   "outputs": [],
   "source": [
    "import os\n",
    "import pprint \n",
    "import tempfile\n",
    "\n",
    "from typing import Dict, Text \n",
    "\n",
    "import numpy as np\n",
    "import tensorflow as tf\n",
    "import tensorflow_datasets as tfds\n",
    "\n",
    "import tensorflow_recommenders as tfrs\n",
    "import pandas as pd"
   ]
  },
  {
   "cell_type": "code",
   "execution_count": 2,
   "id": "dd20eb29-595d-41a5-a06e-d0d435c6c779",
   "metadata": {},
   "outputs": [],
   "source": [
    "path = '../Datasets/online_retail_II.xlsx'\n",
    "users_df = pd.read_excel(path)"
   ]
  },
  {
   "cell_type": "code",
   "execution_count": 3,
   "id": "402e14d0-ef5e-463a-9b01-01f60620533a",
   "metadata": {},
   "outputs": [
    {
     "name": "stdout",
     "output_type": "stream",
     "text": [
      "Recommendations: [b'243' b'243' b'243']\n"
     ]
    }
   ],
   "source": [
    "path = 'C:\\\\Users\\\\Lenovo\\\\Desktop\\\\intern'\n",
    "# Load it back; can also be done in TensorFlow Serving.\n",
    "loaded = tf.saved_model.load(path)\n",
    "\n",
    "# Pass a user id in, get top predicted movie titles back.\n",
    "scores, titles = loaded([\"19\"])\n",
    "print(f\"Recommendations: {titles[0][:3]}\")"
   ]
  },
  {
   "cell_type": "code",
   "execution_count": 4,
   "id": "f0757fa8-0e0d-4349-b2e9-4955db7b7f04",
   "metadata": {},
   "outputs": [],
   "source": [
    "users_df = users_df.dropna()\n",
    "users_df = users_df[['Customer ID', 'Description']]\n",
    "help_ = users_df[['Description']].drop_duplicates()\n",
    "help_['product_id'] = [i+1 for i in range(help_.shape[0])]\n",
    "users_df = users_df.merge(help_, on='Description'\n",
    "                         ).drop('Description', axis=1\n",
    "                         ).rename(columns = {'Description' : 'product_id', 'Customer ID': 'user_id'})\n",
    "users_df.user_id = users_df.user_id.apply(lambda x: str(int(x)))\n",
    "users_df.product_id = users_df.product_id.apply(lambda x: str(x))\n",
    "users_df = users_df.sample(frac=1).reset_index(drop=True)"
   ]
  },
  {
   "cell_type": "code",
   "execution_count": 31,
   "id": "e1d67f65-ff89-4335-9beb-9fb259b5da84",
   "metadata": {},
   "outputs": [
    {
     "name": "stdout",
     "output_type": "stream",
     "text": [
      "Recommendations: [b'141' b'141' b'141']\n",
      "Recommendations: [b'1068' b'1068' b'1068']\n",
      "Recommendations: [b'176' b'176' b'176']\n",
      "Recommendations: [b'1592' b'1592' b'1592']\n",
      "Recommendations: [b'160' b'160' b'160']\n",
      "Recommendations: [b'604' b'604' b'604']\n",
      "Recommendations: [b'423' b'423' b'423']\n",
      "Recommendations: [b'195' b'195' b'195']\n",
      "Recommendations: [b'1278' b'1278' b'1278']\n",
      "Recommendations: [b'3499' b'3499' b'3499']\n"
     ]
    }
   ],
   "source": [
    "for i in range(0,10):\n",
    "    scores, titles = loaded([users_df.iloc[i][0]])\n",
    "    print(f\"Recommendations: {titles[0][:3]}\")"
   ]
  },
  {
   "cell_type": "code",
   "execution_count": 6,
   "id": "834acfe3-fb90-4a93-8635-853687248d8b",
   "metadata": {},
   "outputs": [
    {
     "name": "stdout",
     "output_type": "stream",
     "text": [
      "Recommendations: [b'1641' b'1641' b'1641' b'1641' b'1641' b'1641' b'1641' b'1641' b'1641'\n",
      " b'1641']\n"
     ]
    }
   ],
   "source": [
    "scores, titles = loaded([b'14606'])\n",
    "print(f\"Recommendations: {titles[0][:10]}\")"
   ]
  },
  {
   "cell_type": "code",
   "execution_count": null,
   "id": "8c9ee7b0-722e-419f-969c-6dc1b0cfaf4c",
   "metadata": {},
   "outputs": [],
   "source": []
  }
 ],
 "metadata": {
  "kernelspec": {
   "display_name": "Python 3 (ipykernel)",
   "language": "python",
   "name": "python3"
  },
  "language_info": {
   "codemirror_mode": {
    "name": "ipython",
    "version": 3
   },
   "file_extension": ".py",
   "mimetype": "text/x-python",
   "name": "python",
   "nbconvert_exporter": "python",
   "pygments_lexer": "ipython3",
   "version": "3.8.6"
  }
 },
 "nbformat": 4,
 "nbformat_minor": 5
}
